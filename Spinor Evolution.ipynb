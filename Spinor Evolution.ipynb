{
 "cells": [
  {
   "cell_type": "markdown",
   "id": "680d4b1a",
   "metadata": {},
   "source": [
    "### Time Evolution of Spinor Containing Spin-Orbit Term In Barrier Potential Using Split Operator Method\n",
    "---"
   ]
  },
  {
   "cell_type": "code",
   "execution_count": 15,
   "id": "ef213805",
   "metadata": {},
   "outputs": [],
   "source": [
    "import numpy as np\n",
    "import matplotlib.pyplot as plt\n",
    "from IPython import display\n",
    "import matplotlib.animation as animation\n",
    "from matplotlib.animation import FuncAnimation"
   ]
  },
  {
   "cell_type": "markdown",
   "id": "40306025",
   "metadata": {},
   "source": [
    "### Theory :\n",
    "---\n",
    "\n",
    "The Hamiltonian of the system containing spin orbit coupling is as follows\n",
    "\n",
    "$$ \\hat{H} = -\\dfrac{\\hbar^2}{2m}\\dfrac{\\hat{d}^2}{dz^2} + \\hat{V}(z) + \\dfrac{\\hbar^2}{4m^2c^2}\\dfrac{d\\hat{V}(z)}{dz}\\hat{\\vec{s}}\\times\\hat{\\vec{p}}\\cdot\\nabla V $$\n",
    "\n",
    "If we expand spin using Pauli Matrices $s=\\hbar\\mathbf{\\sigma}$\n",
    "\n",
    "$$ \\hat{H} = -\\dfrac{\\hbar^2}{2m}\\dfrac{\\hat{d}^2}{dz^2} + \\hat{V}(z) + \\dfrac{\\hbar^2}{4m^2c^2}\\dfrac{d\\hat{V}(z)}{dz}\\hat{K} $$\n",
    "\n",
    "The $\\hat{K}$ matrix defined has the following form :\n",
    "\n",
    "$$ \\hat{K} = \\begin{pmatrix} 0 & k^+ \\\\ k^- & 0 \\end{pmatrix} $$\n",
    "\n",
    "Here $k^+=k_x+ik_y$ and $k^-=k_x-ik_y$. Then they move to define the spinor wavefunction as, \n",
    "\n",
    "$$ \\psi(z, t) = \\begin{pmatrix} \\phi_{\\uparrow}(z,t) \\\\ \\phi_{\\downarrow}(z,t) \\end{pmatrix} $$"
   ]
  },
  {
   "cell_type": "code",
   "execution_count": 16,
   "id": "1b997710",
   "metadata": {},
   "outputs": [],
   "source": [
    "class SplitOperatorEvolution:\n",
    "    def __init__(self, m, a, V, dVdz, Lzi, Lzf):\n",
    "        self.m = m\n",
    "        self.a = a\n",
    "        self.V = V\n",
    "        self.dVdz = dVdz\n",
    "        self.Lzi = Lzi\n",
    "        self.Lzf = Lzf\n",
    " \n",
    "    # Generates paramters necessary for time evolution, involves large matrix inversions and multiplications \n",
    "    def gen_calc_params(self, k_plus, k_minus, del_z, del_t):\n",
    "        gamma, rho, lamda = 2*self.m*(del_z**2), (del_z**2)/(2*self.m*(c**2)),  4*self.m*(del_z**2)/del_t \n",
    "        \n",
    "        z = np.arange(self.Lzi, self.Lzf, del_z) \n",
    "        Nz = len(z)\n",
    "        V, dVdz = self.V(z), self.dVdz(z)  \n",
    "\n",
    "        ca = lambda cj : (gamma*V[cj] - 2 + complex(0, lamda)) \n",
    "        cb = lambda cj : (-gamma*V[cj] + 2 + complex(0, lamda)) \n",
    "\n",
    "        a = np.zeros(Nz, dtype=complex) # main diagonal\n",
    "        b = np.zeros(Nz, dtype=complex) # main diagonal\n",
    "        for j in range(Nz):\n",
    "            a[j] = ca(j)\n",
    "            b[j] = cb(j)\n",
    "\n",
    "        # create the tridiagonal matrix as a 2D numpy array\n",
    "        B = np.diag(b) + np.diag(-np.ones(Nz-1), k=1) + np.diag(-np.ones(Nz-1), k=-1)\n",
    "        A = np.diag(a) + np.diag(np.ones(Nz-1), k=1) + np.diag(np.ones(Nz-1), k=-1)\n",
    "\n",
    "        # Diagonal Matrix of Potential and its Derivative \n",
    "        eta = np.diag(dVdz)\n",
    "        Vmat = np.diag(V)\n",
    "        # Intermediate Parameters\n",
    "        BB = rho*eta*k_plus \n",
    "        A_inv = np.linalg.inv(A)\n",
    "        AiB = np.matmul(A_inv, BB)\n",
    "        Y0 = np.linalg.inv(np.identity(Nz) - np.matmul(AiB, AiB))\n",
    "        Y1 = np.matmul(np.matmul(Y0, A_inv), BB)\n",
    "        Y2 = np.matmul(Y1, A_inv)\n",
    "        # Returning some importnt parameters\n",
    "        return z, rho, A_inv, B, AiB, eta, Y1, Y2\n",
    "\n",
    "    def prepare_psi0(self, z, k, z0, sig0):\n",
    "        cols = len(z)\n",
    "        psi = np.empty((2, cols), dtype=complex) # Defining the complex spinor wave function\n",
    "        \n",
    "        for i in range(cols):\n",
    "            term1 = complex(0, k*z[i])\n",
    "            term2 = (-(z[i] - z0)**2)/(2*sig_0**2)\n",
    "            term3 = np.sqrt(sig_0 * np.sqrt(np.pi))\n",
    "            \n",
    "            const = np.exp(term1) * np.exp(term2) / term3 \n",
    "            spinor = np.array([1, 0])\n",
    "            psi[:, i] = spinor*const\n",
    "        return psi # Returns spinor wave function along with the norm of the spinor wavefunction\n",
    "\n",
    "    def propagate(self, kx, ky, z0, sig0, del_z, del_t, steps):\n",
    "        # Some important parameters\n",
    "        k_plus = complex(kx, ky)\n",
    "        k_minus = complex(kx, -ky)\n",
    "        z, rho, A_inv, B, AiB, eta, Y1, Y2 = self.gen_calc_params(k_plus, k_minus, del_z, del_t)\n",
    "        Nz = len(z)\n",
    "\n",
    "        psi0 = self.prepare_psi0(z, k, z0, sig0) # Initializing psi0 of Gaussian form\n",
    "        psi = np.empty((2, Nz, steps), dtype=complex)\n",
    "        psi[:, :, 0] = psi0.copy() # Assigning the first entry of the complex psi array\n",
    "\n",
    "        for i in range(steps - 1):\n",
    "            c1 = np.matmul(B, psi[0, :, i]) + rho*k_plus*np.matmul(eta, psi[1, :, i])\n",
    "            c2 = np.matmul(B, psi[1, :, i]) + rho*k_minus*np.matmul(eta, psi[0, :, i])\n",
    "\n",
    "            psi[1, :, i+1] = np.matmul(Y1, c2) + np.matmul(Y2, c1)\n",
    "            psi[0, :, i+1] = np.matmul(AiB, psi[1, :, i]) + np.matmul(A_inv, c1)\n",
    "            psi[:, 0, i+1], psi[:, -1, i+1] = 0., 0.\n",
    "       \n",
    "        return z, psi\n",
    "    \n",
    "    def time_step_plot(self, step, z, psi):\n",
    "        ymax = max(np.abs(psi[0, :, 0])) + 0.2\n",
    "        ymin = min(self.V(z)) - 0.2\n",
    "\n",
    "        # Setting up figure\n",
    "        fig, ax = plt.subplots(figsize=(10, 6))\n",
    "        ax = plt.axes(xlim=(-Lz, Lz), ylim=(ymin, ymax))\n",
    "        ax.grid()\n",
    "        ax.plot(z, np.abs(psi[0, :, step-1]))\n",
    "        ax.plot(z, np.abs(psi[1, :, step-1]))\n",
    "        ax.plot(z, V(z), color='g', label='potential')\n",
    "        ax.fill_between(z, V(z), color='g', alpha=0.05)\n",
    "        ax.set_xlabel('z (atomic units)', weight='bold')\n",
    "        ax.set_ylabel(r'psi (|$\\psi$|)', weight='bold')\n",
    "        ax.set_title('Split Operator Time Evolution', weight='bold')\n",
    "        plt.show()"
   ]
  },
  {
   "cell_type": "markdown",
   "id": "9c6d8e96",
   "metadata": {},
   "source": [
    "<b> Potential Barrier Form </b>\n",
    "$$ V(z) = -\\dfrac{V_0}{e^{z/a} + 1} $$\n",
    "\n",
    "<b> Initial Wave Function </b>\n",
    "$$ \\psi^0(z) = \\dfrac{e^{ikz}e^{-(z-z_0)^2/2\\sigma_0^2}}{\\sqrt{\\sigma_0 \\sqrt{\\pi}}} \\begin{pmatrix} 1 \\\\ 0 \\end{pmatrix} $$"
   ]
  },
  {
   "cell_type": "markdown",
   "id": "bb3be295",
   "metadata": {},
   "source": [
    "If we follow the central difference method for dealing with the partial derivatives in the Hamiltonian terms, then we end up with a recursion relation, which relates the spinor wavefunction $\\mathbf{\\psi}^n(z)$ with wavefunction at the next time step $\\mathbf{\\psi}^{n+1}(z)$.\n",
    "\n",
    "I have provided the form of central difference method in the context of eigen-value equation $H\\psi = E\\psi$. Here I have used the $j$ as the spatial index and $n$ as the the temporal index.\n",
    "\n",
    "$$\\left( \\dfrac{\\partial^2}{\\partial^2z} - V_j\\right)\\psi^n_j = \\dfrac{1}{\\epsilon^2} (\\psi^n_{j+1} - 2\\psi^n_{j} + \\psi^n_{j-1}) - V_j\\psi^n_j$$\n",
    "\n",
    "The recurs\n",
    "\n",
    "Some constants that are used are defined here, $\\epsilon$ and $\\delta$ are the space and the time discretization parameters which are referred to as <b>del_z</b> and <b>del_t</b> in the program.\n",
    " \n",
    "$$\\Gamma = \\dfrac{4m\\epsilon^2}{\\hbar^2} \\qquad \\lambda = \\dfrac{2m\\epsilon^2}{\\hbar\\delta} \\qquad \\rho = \\dfrac{\\epsilon^2}{2mc^2} $$\n",
    "\n",
    "The implementation of the discretized time evolution equation is done by using the split operator method which ensures the preservation of norm of the wavefunction at all time steps, the form is given below.\n",
    "\n",
    "$$ e^{-i\\delta \\hat{H}} = \\dfrac{\\hat{I}-\\dfrac{i\\delta \\hat{H}}{2}}{\\hat{I}+\\dfrac{i\\delta \\hat{H}}{2}} $$\n"
   ]
  },
  {
   "cell_type": "code",
   "execution_count": 17,
   "id": "f70cac59",
   "metadata": {},
   "outputs": [],
   "source": [
    "#-------------------Atomic Units-------------------#\n",
    "k = 0.53       # wavenumber in atomic units of inverse length\n",
    "m = 1.         # atomic units of mass\n",
    "h_b = 1        # h bar in atomic units \n",
    "V0 = 0.286     # atomic units of energy\n",
    "Lz = 297.3     # Box length in atomic units of distance\n",
    "del_t = 0.23   # Temporal discretization parameter in atomic units of distance\n",
    "del_z = 0.297  # Spacial discretization parameter in atomic units of distance\n",
    "a = 5.66       # Barrier profile in atomic units of distance\n",
    "sig_0 = 14.84  # atomic units of distance \n",
    "z0 = -Lz/2     # atomic units of distance \n",
    "c = 137.036    # speed of light in atomic units\n",
    "\n",
    "def V(z):\n",
    "    term = np.exp(z/a) + 1\n",
    "    return -V0/term\n",
    "\n",
    "def dVdz(z):\n",
    "    term = (np.exp(z/a) + 1)**2\n",
    "    return V0*np.exp(z/a)/(term*a)"
   ]
  },
  {
   "cell_type": "code",
   "execution_count": 21,
   "id": "cde261fe",
   "metadata": {},
   "outputs": [],
   "source": [
    "Nt = 50\n",
    "schEQ = SplitOperatorEvolution(m=m, a=a, V=V, dVdz=dVdz, Lzi=-Lz, Lzf=Lz)\n",
    "z, psi = schEQ.propagate(kx=k, ky=k, z0=z0, sig0=sig_0, del_z=del_z, del_t=del_t, steps=Nt)"
   ]
  },
  {
   "cell_type": "markdown",
   "id": "41f83b1b",
   "metadata": {},
   "source": [
    "You can plot the step-wise spin up and spin down wavefunctions as follows, use $0$ for spin up and $1$ for spin-down as index when calling psi for plotting, for example $psi[0/1, 0/N_z, 0/N_t-1]$.\n",
    "\n",
    "First index is for spin, second for spatial location and third for temporal"
   ]
  },
  {
   "cell_type": "code",
   "execution_count": 33,
   "id": "9efa44e6",
   "metadata": {},
   "outputs": [
    {
     "data": {
      "image/png": "[encoded data removed]",
      "text/plain": [
       "<Figure size 432x288 with 1 Axes>"
      ]
     },
     "metadata": {
      "needs_background": "light"
     },
     "output_type": "display_data"
    }
   ],
   "source": [
    "plt.grid()\n",
    "plt.plot(z, V(z), color='g')\n",
    "plt.fill_between(z, V(z), color='g', alpha=0.1)\n",
    "plt.plot(z, np.abs(psi[0, :, 0]))\n",
    "plt.plot(z, np.abs(psi[0, :, 49]))\n",
    "plt.show()"
   ]
  },
  {
   "cell_type": "markdown",
   "id": "27c5b7a5",
   "metadata": {},
   "source": [
    "If you want to generate animation, then you can use the following code below."
   ]
  },
  {
   "cell_type": "code",
   "execution_count": null,
   "id": "487b65ac",
   "metadata": {},
   "outputs": [],
   "source": [
    "fig, ax = plt.subplots(figsize=(10, 6))\n",
    "#ax.tick_params(axis='x', which='both', direction='inout', length=10, width=2, labelsize=12)\n",
    "ax.grid()\n",
    "ymax = max(np.abs(psi[0, :, 0])) + 0.2\n",
    "ymin = min(V(z)) - 0.2\n",
    "ax.set_xlim(-Lz, Lz)\n",
    "ax.set_ylim(ymin, ymax)\n",
    "ax.plot(z, V(z), color='g', label='potential')\n",
    "ax.fill_between(z, V(z), color='g', alpha=0.05)\n",
    "ax.set_xlabel('z (atomic units)', weight='bold')\n",
    "ax.set_ylabel(r'psi (|$\\psi$|)', weight='bold')\n",
    "ax.set_title('Split Operator Time Evolution', weight='bold')\n",
    "line1, = ax.plot([], [])\n",
    "line2, = ax.plot([], [])\n",
    "plt.close()\n",
    "\n",
    "def animate(i):\n",
    "    global psi\n",
    "    line1.set_data(z, np.abs(psi[0, :, i]))\n",
    "    line2.set_data(z, np.abs(psi[1, :, i])*1e8)\n",
    "    return line1, line2, \n",
    "\n",
    "anim = animation.FuncAnimation(fig, animate, interval=10, frames=4999, blit=True)\n",
    "video = anim.to_html5_video()\n",
    "html = display.HTML(video)\n",
    "display.display(html)\n",
    "plt.close()"
   ]
  }
 ],
 "metadata": {
  "kernelspec": {
   "display_name": "Python 3 (ipykernel)",
   "language": "python",
   "name": "python3"
  },
  "language_info": {
   "codemirror_mode": {
    "name": "ipython",
    "version": 3
   },
   "file_extension": ".py",
   "mimetype": "text/x-python",
   "name": "python",
   "nbconvert_exporter": "python",
   "pygments_lexer": "ipython3",
   "version": "3.9.12"
  }
 },
 "nbformat": 4,
 "nbformat_minor": 5
}
